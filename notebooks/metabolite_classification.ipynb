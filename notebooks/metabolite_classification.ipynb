{
 "cells": [
  {
   "cell_type": "markdown",
   "id": "ab50bb74-b934-4cf0-bd3b-44e8ace67446",
   "metadata": {},
   "source": [
    "### **metabolite_classification.ipynb**\n",
    "### **Creates a model for metabolite classification**\n",
    "\n",
    "* ##### 01 - Setup\n",
    "* ##### 02 - Install packages\n",
    "* ##### 03 - Import packages\n",
    "* ##### 04 - Create metabolites\n",
    "* ##### 05 - Download compound properties"
   ]
  },
  {
   "cell_type": "markdown",
   "id": "3af9cf8c-8371-4b27-b6c3-04260672e8a8",
   "metadata": {},
   "source": [
    "### 01 - Setup"
   ]
  },
  {
   "cell_type": "code",
   "execution_count": null,
   "id": "0287d076-0743-4f23-ae29-0d4127afa436",
   "metadata": {
    "tags": []
   },
   "outputs": [],
   "source": [
    "import os\n",
    "import sys"
   ]
  },
  {
   "cell_type": "code",
   "execution_count": null,
   "id": "ce5bccee-bf6e-45ad-9390-c59f3e195f07",
   "metadata": {
    "tags": []
   },
   "outputs": [],
   "source": [
    "sys.path.append(os.path.dirname(os.getcwd()))"
   ]
  },
  {
   "cell_type": "markdown",
   "id": "04542870-3465-4768-ad57-c78bdc37ab58",
   "metadata": {},
   "source": [
    "### 02 - Install packages"
   ]
  },
  {
   "cell_type": "code",
   "execution_count": null,
   "id": "bdc37f0f-253a-4866-a3f2-50a0b261b32c",
   "metadata": {
    "tags": []
   },
   "outputs": [],
   "source": [
    "!{ sys.executable } -m pip install --upgrade requests tqdm"
   ]
  },
  {
   "cell_type": "markdown",
   "id": "462826d8-15af-46eb-af19-08f305259cdb",
   "metadata": {},
   "source": [
    "### 03 - Import packages"
   ]
  },
  {
   "cell_type": "code",
   "execution_count": null,
   "id": "2222373b-7ba6-42a1-9553-e88978be5c37",
   "metadata": {
    "tags": []
   },
   "outputs": [],
   "source": [
    "from tqdm  import tqdm\n",
    "from utils import pubchem"
   ]
  },
  {
   "cell_type": "markdown",
   "id": "5b735ebc-d149-458f-9f38-d53861feb5f5",
   "metadata": {},
   "source": [
    "### 04 - Create metabolites"
   ]
  },
  {
   "cell_type": "code",
   "execution_count": null,
   "id": "49bf555c-893c-4e38-9811-00570bad7cc4",
   "metadata": {},
   "outputs": [],
   "source": [
    "metabolites = [\n",
    "    {\n",
    "        'class'     : 'Carbohydrate',\n",
    "        'compounds' : [\n",
    "            5780,\n",
    "            5793,\n",
    "            5984,\n",
    "            5988,\n",
    "            6134,\n",
    "            6251,\n",
    "            6255,\n",
    "            6912,\n",
    "            7427,\n",
    "            10712,\n",
    "            18950,\n",
    "            62698,\n",
    "            135191,\n",
    "            439207,\n",
    "            439242,\n",
    "            439357,\n",
    "            439531,\n",
    "            441422,\n",
    "            14055602,\n",
    "            16211032\n",
    "        ]\n",
    "    },\n",
    "    {\n",
    "        'class'     : 'Lipid',\n",
    "        'compounds' : [\n",
    "            379,\n",
    "            985,\n",
    "            2969,\n",
    "            3893,\n",
    "            5281,\n",
    "            5997,\n",
    "            8215,\n",
    "            10467,\n",
    "            10469,\n",
    "            11005,\n",
    "            11197,\n",
    "            445580,\n",
    "            445638,\n",
    "            445639,\n",
    "            446284,\n",
    "            637517,\n",
    "            5280492,\n",
    "            5280934,\n",
    "            5282411,\n",
    "            5282457\n",
    "        ]\n",
    "    },\n",
    "    {\n",
    "        'class'     : 'Amino acid',\n",
    "        'compounds' : [\n",
    "            236,\n",
    "            750,\n",
    "            791,\n",
    "            866,\n",
    "            5862,\n",
    "            5950,\n",
    "            5951,\n",
    "            5960,\n",
    "            5961,\n",
    "            6106,\n",
    "            6137,\n",
    "            6140,\n",
    "            6274,\n",
    "            6288,\n",
    "            6305,\n",
    "            6322,\n",
    "            25076,\n",
    "            33032,\n",
    "            145742,\n",
    "            5460671\n",
    "        ]\n",
    "    },\n",
    "    {\n",
    "        'class'     : 'Nucleic acid',\n",
    "        'compounds' : [\n",
    "            190,\n",
    "            597,\n",
    "            636,\n",
    "            637,\n",
    "            649,\n",
    "            1135,\n",
    "            1174,\n",
    "            1188,\n",
    "            6029,\n",
    "            6175,\n",
    "            15047,\n",
    "            60961,\n",
    "            64959,\n",
    "            65040,\n",
    "            70751,\n",
    "            92918,\n",
    "            94312,\n",
    "            445408,\n",
    "            135398634,\n",
    "            135398679\n",
    "        ]\n",
    "    },\n",
    "    {\n",
    "        'class'     : 'Alkaloid',\n",
    "        'compounds' : [\n",
    "            1233,\n",
    "            2353,\n",
    "            4680,\n",
    "            5570,\n",
    "            10198,\n",
    "            10235,\n",
    "            46695,\n",
    "            51683,\n",
    "            68231,\n",
    "            89594,\n",
    "            91461,\n",
    "            174174,\n",
    "            197835,\n",
    "            393060,\n",
    "            441072,\n",
    "            446220,\n",
    "            638024,\n",
    "            644020,\n",
    "            1201543,\n",
    "            5281816\n",
    "        ]\n",
    "    },\n",
    "    {\n",
    "        'class'     : 'Phenylpropanoid',\n",
    "        'compounds' : [\n",
    "            1183,\n",
    "            3314,\n",
    "            4276,\n",
    "            5144,\n",
    "            6989,\n",
    "            8815,\n",
    "            10231,\n",
    "            31211,\n",
    "            68148,\n",
    "            444539,\n",
    "            636822,\n",
    "            637511,\n",
    "            637520,\n",
    "            637563,\n",
    "            853433,\n",
    "            1549095,\n",
    "            5280343,\n",
    "            5280961,\n",
    "            5281426,\n",
    "            5281787\n",
    "        ]\n",
    "    },\n",
    "    {\n",
    "        'class'     : 'Polyketide',\n",
    "        'compounds' : [\n",
    "            10208,\n",
    "            31703,\n",
    "            53232,\n",
    "            68071,\n",
    "            439246,\n",
    "            440735,\n",
    "            441140,\n",
    "            445154,\n",
    "            638297,\n",
    "            2826719,\n",
    "            5280443,\n",
    "            5287620,\n",
    "            5315472,\n",
    "            5317700,\n",
    "            5323531,\n",
    "            6858006,\n",
    "            24970762,\n",
    "            54680478,\n",
    "            54704417,\n",
    "            71607042\n",
    "        ]\n",
    "    },\n",
    "    {\n",
    "        'class'     : 'Terpenoid',\n",
    "        'compounds' : [\n",
    "            1107,\n",
    "            6989,\n",
    "            7439,\n",
    "            11173,\n",
    "            12988,\n",
    "            16078,\n",
    "            22311,\n",
    "            29746,\n",
    "            73170,\n",
    "            163263,\n",
    "            442911,\n",
    "            443484,\n",
    "            445070,\n",
    "            445354,\n",
    "            452967,\n",
    "            637566,\n",
    "            638072,\n",
    "            5281516,\n",
    "            5281520,\n",
    "            9548704\n",
    "        ]\n",
    "    }\n",
    "]"
   ]
  },
  {
   "cell_type": "markdown",
   "id": "469432af-1be5-4904-9390-22b00db7e835",
   "metadata": {},
   "source": [
    "### 05 - Download compound properties"
   ]
  },
  {
   "cell_type": "code",
   "execution_count": null,
   "id": "a4653423-dc8a-4e49-ab1f-840019215705",
   "metadata": {
    "tags": []
   },
   "outputs": [],
   "source": [
    "for metabolite in tqdm(metabolites):\n",
    "\n",
    "    CIDs       = metabolite['compounds']\n",
    "    properties = ['MolecularFormula', 'CanonicalSMILES', 'IUPACName', 'Title']\n",
    "\n",
    "    compound_properties     = pubchem.download_compound_properties(CIDs, properties)\n",
    "    metabolite['compounds'] = compound_properties"
   ]
  },
  {
   "cell_type": "code",
   "execution_count": null,
   "id": "ff98264b-e49f-4d62-8564-9e4b316fd5bc",
   "metadata": {
    "tags": []
   },
   "outputs": [],
   "source": [
    "pubchem.print_compound_properties(metabolites[0]['compounds'])"
   ]
  }
 ],
 "metadata": {
  "kernelspec": {
   "display_name": "Python 3.9",
   "language": "python",
   "name": "python3"
  },
  "language_info": {
   "codemirror_mode": {
    "name": "ipython",
    "version": 3
   },
   "file_extension": ".py",
   "mimetype": "text/x-python",
   "name": "python",
   "nbconvert_exporter": "python",
   "pygments_lexer": "ipython3",
   "version": "3.9.16"
  }
 },
 "nbformat": 4,
 "nbformat_minor": 5
}
