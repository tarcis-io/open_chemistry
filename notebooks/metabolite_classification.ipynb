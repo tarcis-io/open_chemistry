{
 "cells": [
  {
   "cell_type": "markdown",
   "id": "ab50bb74-b934-4cf0-bd3b-44e8ace67446",
   "metadata": {},
   "source": [
    "### **metabolite_classification.ipynb**\n",
    "### **Creates a model for metabolite classification**\n",
    "\n",
    "* ##### 01 - Setup\n",
    "* ##### 02 - Install packages\n",
    "* ##### 03 - Import packages\n",
    "* ##### 04 - Create metabolites\n",
    "* ##### 05 - Download compound properties from PubChem"
   ]
  },
  {
   "cell_type": "markdown",
   "id": "3af9cf8c-8371-4b27-b6c3-04260672e8a8",
   "metadata": {},
   "source": [
    "### 01 - Setup"
   ]
  },
  {
   "cell_type": "code",
   "execution_count": null,
   "id": "0287d076-0743-4f23-ae29-0d4127afa436",
   "metadata": {
    "tags": []
   },
   "outputs": [],
   "source": [
    "import os\n",
    "import sys"
   ]
  },
  {
   "cell_type": "code",
   "execution_count": null,
   "id": "ce5bccee-bf6e-45ad-9390-c59f3e195f07",
   "metadata": {
    "tags": []
   },
   "outputs": [],
   "source": [
    "sys.path.append(os.path.dirname(os.getcwd()))"
   ]
  },
  {
   "cell_type": "markdown",
   "id": "04542870-3465-4768-ad57-c78bdc37ab58",
   "metadata": {},
   "source": [
    "### 02 - Install packages"
   ]
  },
  {
   "cell_type": "code",
   "execution_count": null,
   "id": "bdc37f0f-253a-4866-a3f2-50a0b261b32c",
   "metadata": {
    "tags": []
   },
   "outputs": [],
   "source": [
    "!{ sys.executable } -m pip install --upgrade numpy requests tqdm"
   ]
  },
  {
   "cell_type": "markdown",
   "id": "462826d8-15af-46eb-af19-08f305259cdb",
   "metadata": {},
   "source": [
    "### 03 - Import packages"
   ]
  },
  {
   "cell_type": "code",
   "execution_count": null,
   "id": "2222373b-7ba6-42a1-9553-e88978be5c37",
   "metadata": {
    "tags": []
   },
   "outputs": [],
   "source": [
    "import math\n",
    "import numpy\n",
    "\n",
    "from tqdm  import tqdm\n",
    "from utils import pubchem"
   ]
  },
  {
   "cell_type": "markdown",
   "id": "5b735ebc-d149-458f-9f38-d53861feb5f5",
   "metadata": {},
   "source": [
    "### 04 - Create metabolites"
   ]
  },
  {
   "cell_type": "code",
   "execution_count": null,
   "id": "49bf555c-893c-4e38-9811-00570bad7cc4",
   "metadata": {
    "tags": []
   },
   "outputs": [],
   "source": [
    "metabolites = [\n",
    "    {\n",
    "        'class'     : 'Carbohydrate',\n",
    "        'compounds' : [\n",
    "            { 'CID' : 5780     },\n",
    "            { 'CID' : 5793     },\n",
    "            { 'CID' : 5984     },\n",
    "            { 'CID' : 5988     },\n",
    "            { 'CID' : 6134     },\n",
    "            { 'CID' : 6251     },\n",
    "            { 'CID' : 6255     },\n",
    "            { 'CID' : 6912     },\n",
    "            { 'CID' : 7427     },\n",
    "            { 'CID' : 10712    },\n",
    "            { 'CID' : 18950    },\n",
    "            { 'CID' : 62698    },\n",
    "            { 'CID' : 135191   },\n",
    "            { 'CID' : 439207   },\n",
    "            { 'CID' : 439242   },\n",
    "            { 'CID' : 439357   },\n",
    "            { 'CID' : 439531   },\n",
    "            { 'CID' : 441422   },\n",
    "            { 'CID' : 14055602 },\n",
    "            { 'CID' : 16211032 }\n",
    "        ]\n",
    "    },\n",
    "    {\n",
    "        'class'     : 'Lipid',\n",
    "        'compounds' : [\n",
    "            { 'CID' : 379     },\n",
    "            { 'CID' : 985     },\n",
    "            { 'CID' : 2969    },\n",
    "            { 'CID' : 3893    },\n",
    "            { 'CID' : 5281    },\n",
    "            { 'CID' : 5997    },\n",
    "            { 'CID' : 8215    },\n",
    "            { 'CID' : 10467   },\n",
    "            { 'CID' : 10469   },\n",
    "            { 'CID' : 11005   },\n",
    "            { 'CID' : 11197   },\n",
    "            { 'CID' : 445580  },\n",
    "            { 'CID' : 445638  },\n",
    "            { 'CID' : 445639  },\n",
    "            { 'CID' : 446284  },\n",
    "            { 'CID' : 637517  },\n",
    "            { 'CID' : 5280492 },\n",
    "            { 'CID' : 5280934 },\n",
    "            { 'CID' : 5282411 },\n",
    "            { 'CID' : 5282457 }\n",
    "        ]\n",
    "    },\n",
    "    {\n",
    "        'class'     : 'Amino acid',\n",
    "        'compounds' : [\n",
    "            { 'CID' : 236     },\n",
    "            { 'CID' : 750     },\n",
    "            { 'CID' : 791     },\n",
    "            { 'CID' : 866     },\n",
    "            { 'CID' : 5862    },\n",
    "            { 'CID' : 5950    },\n",
    "            { 'CID' : 5951    },\n",
    "            { 'CID' : 5960    },\n",
    "            { 'CID' : 5961    },\n",
    "            { 'CID' : 6106    },\n",
    "            { 'CID' : 6137    },\n",
    "            { 'CID' : 6140    },\n",
    "            { 'CID' : 6274    },\n",
    "            { 'CID' : 6288    },\n",
    "            { 'CID' : 6305    },\n",
    "            { 'CID' : 6322    },\n",
    "            { 'CID' : 25076   },\n",
    "            { 'CID' : 33032   },\n",
    "            { 'CID' : 145742  },\n",
    "            { 'CID' : 5460671 }\n",
    "        ]\n",
    "    },\n",
    "    {\n",
    "        'class'     : 'Nucleic acid',\n",
    "        'compounds' : [\n",
    "            { 'CID' : 190       },\n",
    "            { 'CID' : 597       },\n",
    "            { 'CID' : 636       },\n",
    "            { 'CID' : 637       },\n",
    "            { 'CID' : 649       },\n",
    "            { 'CID' : 1135      },\n",
    "            { 'CID' : 1174      },\n",
    "            { 'CID' : 1188      },\n",
    "            { 'CID' : 6029      },\n",
    "            { 'CID' : 6175      },\n",
    "            { 'CID' : 15047     },\n",
    "            { 'CID' : 60961     },\n",
    "            { 'CID' : 64959     },\n",
    "            { 'CID' : 65040     },\n",
    "            { 'CID' : 70751     },\n",
    "            { 'CID' : 92918     },\n",
    "            { 'CID' : 94312     },\n",
    "            { 'CID' : 445408    },\n",
    "            { 'CID' : 135398634 },\n",
    "            { 'CID' : 135398679 }\n",
    "        ]\n",
    "    },\n",
    "    {\n",
    "        'class'     : 'Alkaloid',\n",
    "        'compounds' : [\n",
    "            { 'CID' : 1233    },\n",
    "            { 'CID' : 2353    },\n",
    "            { 'CID' : 4680    },\n",
    "            { 'CID' : 5570    },\n",
    "            { 'CID' : 10198   },\n",
    "            { 'CID' : 10235   },\n",
    "            { 'CID' : 46695   },\n",
    "            { 'CID' : 51683   },\n",
    "            { 'CID' : 68231   },\n",
    "            { 'CID' : 89594   },\n",
    "            { 'CID' : 91461   },\n",
    "            { 'CID' : 174174  },\n",
    "            { 'CID' : 197835  },\n",
    "            { 'CID' : 393060  },\n",
    "            { 'CID' : 441072  },\n",
    "            { 'CID' : 446220  },\n",
    "            { 'CID' : 638024  },\n",
    "            { 'CID' : 644020  },\n",
    "            { 'CID' : 1201543 },\n",
    "            { 'CID' : 5281816 }\n",
    "        ]\n",
    "    },\n",
    "    {\n",
    "        'class'     : 'Phenylpropanoid',\n",
    "        'compounds' : [\n",
    "            { 'CID' : 1183    },\n",
    "            { 'CID' : 3314    },\n",
    "            { 'CID' : 4276    },\n",
    "            { 'CID' : 5144    },\n",
    "            { 'CID' : 6989    },\n",
    "            { 'CID' : 8815    },\n",
    "            { 'CID' : 10231   },\n",
    "            { 'CID' : 31211   },\n",
    "            { 'CID' : 68148   },\n",
    "            { 'CID' : 444539  },\n",
    "            { 'CID' : 636822  },\n",
    "            { 'CID' : 637511  },\n",
    "            { 'CID' : 637520  },\n",
    "            { 'CID' : 637563  },\n",
    "            { 'CID' : 853433  },\n",
    "            { 'CID' : 1549095 },\n",
    "            { 'CID' : 5280343 },\n",
    "            { 'CID' : 5280961 },\n",
    "            { 'CID' : 5281426 },\n",
    "            { 'CID' : 5281787 }\n",
    "        ]\n",
    "    },\n",
    "    {\n",
    "        'class'     : 'Polyketide',\n",
    "        'compounds' : [\n",
    "            { 'CID' : 10208    },\n",
    "            { 'CID' : 31703    },\n",
    "            { 'CID' : 53232    },\n",
    "            { 'CID' : 68071    },\n",
    "            { 'CID' : 439246   },\n",
    "            { 'CID' : 440735   },\n",
    "            { 'CID' : 441140   },\n",
    "            { 'CID' : 445154   },\n",
    "            { 'CID' : 638297   },\n",
    "            { 'CID' : 2826719  },\n",
    "            { 'CID' : 5280443  },\n",
    "            { 'CID' : 5287620  },\n",
    "            { 'CID' : 5315472  },\n",
    "            { 'CID' : 5317700  },\n",
    "            { 'CID' : 5323531  },\n",
    "            { 'CID' : 6858006  },\n",
    "            { 'CID' : 24970762 },\n",
    "            { 'CID' : 54680478 },\n",
    "            { 'CID' : 54704417 },\n",
    "            { 'CID' : 71607042 }\n",
    "        ]\n",
    "    },\n",
    "    {\n",
    "        'class'     : 'Terpenoid',\n",
    "        'compounds' : [\n",
    "            { 'CID' : 1107    },\n",
    "            { 'CID' : 6989    },\n",
    "            { 'CID' : 7439    },\n",
    "            { 'CID' : 11173   },\n",
    "            { 'CID' : 12988   },\n",
    "            { 'CID' : 16078   },\n",
    "            { 'CID' : 22311   },\n",
    "            { 'CID' : 29746   },\n",
    "            { 'CID' : 73170   },\n",
    "            { 'CID' : 163263  },\n",
    "            { 'CID' : 442911  },\n",
    "            { 'CID' : 443484  },\n",
    "            { 'CID' : 445070  },\n",
    "            { 'CID' : 445354  },\n",
    "            { 'CID' : 452967  },\n",
    "            { 'CID' : 637566  },\n",
    "            { 'CID' : 638072  },\n",
    "            { 'CID' : 5281516 },\n",
    "            { 'CID' : 5281520 },\n",
    "            { 'CID' : 9548704 }\n",
    "        ]\n",
    "    }\n",
    "]"
   ]
  },
  {
   "cell_type": "markdown",
   "id": "5e43efbc-ddf8-44c0-bc93-fe37562f7b1a",
   "metadata": {},
   "source": [
    "### 05 - Download compound properties from PubChem"
   ]
  },
  {
   "cell_type": "code",
   "execution_count": null,
   "id": "821e1ca7-fcad-4001-88eb-824ad9279fac",
   "metadata": {
    "tags": []
   },
   "outputs": [],
   "source": [
    "properties = ['MolecularFormula', 'CanonicalSMILES', 'IUPACName', 'Title']"
   ]
  },
  {
   "cell_type": "code",
   "execution_count": null,
   "id": "f2847647-07d1-4c40-92c4-1e1e32ecf0aa",
   "metadata": {
    "tags": []
   },
   "outputs": [],
   "source": [
    "for metabolite in tqdm(metabolites):\n",
    "\n",
    "    compounds               = metabolite['compounds']\n",
    "    metabolite['compounds'] = pubchem.download_compound_properties(compounds, properties)"
   ]
  },
  {
   "cell_type": "code",
   "execution_count": null,
   "id": "d79bdaae-eba8-45e7-b678-36dcd7547414",
   "metadata": {
    "tags": []
   },
   "outputs": [],
   "source": [
    "pubchem.print_compound_properties(metabolites[0]['compounds'])"
   ]
  }
 ],
 "metadata": {
  "kernelspec": {
   "display_name": "Python 3.9",
   "language": "python",
   "name": "python3"
  },
  "language_info": {
   "codemirror_mode": {
    "name": "ipython",
    "version": 3
   },
   "file_extension": ".py",
   "mimetype": "text/x-python",
   "name": "python",
   "nbconvert_exporter": "python",
   "pygments_lexer": "ipython3",
   "version": "3.9.16"
  }
 },
 "nbformat": 4,
 "nbformat_minor": 5
}
