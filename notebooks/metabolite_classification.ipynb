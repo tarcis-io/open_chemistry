{
 "cells": [
  {
   "cell_type": "markdown",
   "id": "ab50bb74-b934-4cf0-bd3b-44e8ace67446",
   "metadata": {},
   "source": [
    "### **metabolite_classification.ipynb**\n",
    "### **Creates a model for metabolite classification**\n",
    "\n",
    "* ##### 01 - Setup\n",
    "* ##### 02 - Install packages\n",
    "* ##### 03 - Import packages"
   ]
  },
  {
   "cell_type": "markdown",
   "id": "3af9cf8c-8371-4b27-b6c3-04260672e8a8",
   "metadata": {},
   "source": [
    "### 01 - Setup"
   ]
  },
  {
   "cell_type": "code",
   "execution_count": null,
   "id": "9e41e63d-d93d-4ece-bbac-0b38f3c9cc7d",
   "metadata": {},
   "outputs": [],
   "source": [
    "pass"
   ]
  },
  {
   "cell_type": "markdown",
   "id": "04542870-3465-4768-ad57-c78bdc37ab58",
   "metadata": {},
   "source": [
    "### 02 - Install packages"
   ]
  },
  {
   "cell_type": "code",
   "execution_count": null,
   "id": "532d175e-5ee1-40da-94eb-4150f90d5ce0",
   "metadata": {},
   "outputs": [],
   "source": [
    "pass"
   ]
  },
  {
   "cell_type": "markdown",
   "id": "462826d8-15af-46eb-af19-08f305259cdb",
   "metadata": {},
   "source": [
    "### 03 - Import packages"
   ]
  },
  {
   "cell_type": "code",
   "execution_count": null,
   "id": "d3849aa1-6767-4411-818b-fcd894acf98e",
   "metadata": {},
   "outputs": [],
   "source": [
    "pass"
   ]
  }
 ],
 "metadata": {
  "kernelspec": {
   "display_name": "Python 3.9",
   "language": "python",
   "name": "python3"
  },
  "language_info": {
   "codemirror_mode": {
    "name": "ipython",
    "version": 3
   },
   "file_extension": ".py",
   "mimetype": "text/x-python",
   "name": "python",
   "nbconvert_exporter": "python",
   "pygments_lexer": "ipython3",
   "version": "3.9.16"
  }
 },
 "nbformat": 4,
 "nbformat_minor": 5
}
